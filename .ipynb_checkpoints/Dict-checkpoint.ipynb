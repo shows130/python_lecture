{
 "cells": [
  {
   "cell_type": "markdown",
   "id": "793defb0",
   "metadata": {},
   "source": [
    "## 딕셔너리란?\n",
    "\n",
    "사람은 누구든지 \"이름\" = \"홍길동\", \"생일\" = \"몇 월 며칠\" 등으로 구별할 수 있다. 파이썬은 영리하게도 이러한 대응 관계를 나타낼 수 있는 자료형을 가지고 있다. 요즘 사용하는 대부분의 언어도 이러한 대응 관계를 나타내는 자료형을 갖고 있는데, 이를 연관 배열(Associative array) 또는 해시(Hash)라고 한다.\n",
    "\n",
    "파이썬에서는 이러한 자료형을 딕셔너리(Dictionary)라고 하는데, 단어 그대로 해석하면 사전이라는 뜻이다. 즉 \"people\"이라는 단어에 \"사람\", \"baseball\"이라는 단어에 \"야구\"라는 뜻이 부합되듯이 딕셔너리는 Key와 Value를 한 쌍으로 갖는 자료형이다. 예컨대 Key가 \"baseball\"이라면 Value는 \"야구\"가 될 것이다.\n",
    "\n",
    "딕셔너리는 리스트나 튜플처럼 순차적으로(sequential) 해당 요솟값을 구하지 않고 Key를 통해 Value를 얻는다. 이것이 바로 딕셔너리의 가장 큰 특징이다. baseball이라는 단어의 뜻을 찾기 위해 사전의 내용을 순차적으로 모두 검색하는 것이 아니라 baseball이라는 단어가 있는 곳만 펼쳐 보는 것이다.\n",
    "\n",
    "## 딕셔너리는 어떻게 만들까?\n",
    "\n",
    "다음은 기본 딕셔너리의 모습이다.\n",
    "\n",
    "```\n",
    "{Key1:Value1, Key2:Value2, Key3:Value3, ...}\n",
    "```\n",
    "\n",
    "Key와 Value의 쌍 여러 개가 { }로 둘러싸여 있다. 각각의 요소는 Key : Value 형태로 이루어져 있고 쉼표(,)로 구분되어 있다.\n",
    "\n",
    "> ※ Key에는 변하지 않는 값을 사용하고, Value에는 변하는 값과 변하지 않는 값 모두 사용할 수 있다.\n",
    "\n",
    "다음 딕셔너리 예를 살펴보자.\n",
    "\n",
    "```\n",
    ">>> dic = {'name':'pey', 'phone':'0119993323', 'birth': '1118'}\n",
    "```\n",
    "\n",
    "위에서 Key는 각각 'name', 'phone', 'birth'이고, 각각의 Key에 해당하는 Value는 'pey', '0119993323', '1118'이 된다."
   ]
  },
  {
   "cell_type": "code",
   "execution_count": 1,
   "id": "84cdfe43",
   "metadata": {
    "ExecuteTime": {
     "end_time": "2021-05-26T02:57:21.205827Z",
     "start_time": "2021-05-26T02:57:21.191796Z"
    }
   },
   "outputs": [
    {
     "data": {
      "text/plain": [
       "2"
      ]
     },
     "execution_count": 1,
     "metadata": {},
     "output_type": "execute_result"
    }
   ],
   "source": [
    "a = {\"a\" : 1, \"b\":2}\n",
    "len (a)"
   ]
  },
  {
   "cell_type": "code",
   "execution_count": 3,
   "id": "380f708c",
   "metadata": {
    "ExecuteTime": {
     "end_time": "2021-05-26T02:58:22.026028Z",
     "start_time": "2021-05-26T02:58:22.009026Z"
    }
   },
   "outputs": [
    {
     "data": {
      "text/plain": [
       "1"
      ]
     },
     "execution_count": 3,
     "metadata": {},
     "output_type": "execute_result"
    }
   ],
   "source": [
    "len(\"a\")"
   ]
  },
  {
   "cell_type": "code",
   "execution_count": 4,
   "id": "531f0b0c",
   "metadata": {
    "ExecuteTime": {
     "end_time": "2021-05-26T02:59:48.829409Z",
     "start_time": "2021-05-26T02:59:48.820415Z"
    }
   },
   "outputs": [],
   "source": [
    "a = {1:2}"
   ]
  },
  {
   "cell_type": "markdown",
   "id": "b5c6d7f8",
   "metadata": {},
   "source": [
    "## 딕셔너리 쌍 추가, 삭제하기\n",
    "\n",
    "딕셔너리 쌍을 추가하는 방법과 삭제하는 방법을 살펴보자. 먼저 딕셔너리에 쌍을 추가하는 다음 예를 함께 따라 해 보자.\n",
    "\n",
    "### 딕셔너리 쌍 추가하기"
   ]
  },
  {
   "cell_type": "code",
   "execution_count": 5,
   "id": "2d92d29c",
   "metadata": {
    "ExecuteTime": {
     "end_time": "2021-05-26T03:01:53.668225Z",
     "start_time": "2021-05-26T03:01:53.660248Z"
    }
   },
   "outputs": [
    {
     "data": {
      "text/plain": [
       "{'a': 'asdasdasdad'}"
      ]
     },
     "execution_count": 5,
     "metadata": {},
     "output_type": "execute_result"
    }
   ],
   "source": [
    "a={}\n",
    "a[\"a\"]=\"asdasdasdad\"\n",
    "a"
   ]
  },
  {
   "cell_type": "code",
   "execution_count": 6,
   "id": "432c83e0",
   "metadata": {
    "ExecuteTime": {
     "end_time": "2021-05-26T03:02:18.111561Z",
     "start_time": "2021-05-26T03:02:18.101567Z"
    }
   },
   "outputs": [
    {
     "data": {
      "text/plain": [
       "'asdasdasdad'"
      ]
     },
     "execution_count": 6,
     "metadata": {},
     "output_type": "execute_result"
    }
   ],
   "source": [
    "a[\"a\"]"
   ]
  },
  {
   "cell_type": "code",
   "execution_count": 7,
   "id": "5adb04e5",
   "metadata": {
    "ExecuteTime": {
     "end_time": "2021-05-26T03:02:52.031519Z",
     "start_time": "2021-05-26T03:02:52.021524Z"
    }
   },
   "outputs": [
    {
     "data": {
      "text/plain": [
       "{'a': 'asdasdasdad', 'b': 121313}"
      ]
     },
     "execution_count": 7,
     "metadata": {},
     "output_type": "execute_result"
    }
   ],
   "source": [
    "a[\"b\"]=121313\n",
    "a"
   ]
  },
  {
   "cell_type": "code",
   "execution_count": 8,
   "id": "2fe10563",
   "metadata": {
    "ExecuteTime": {
     "end_time": "2021-05-26T03:03:57.096193Z",
     "start_time": "2021-05-26T03:03:57.078188Z"
    }
   },
   "outputs": [],
   "source": [
    "a[\"a\"]=12"
   ]
  },
  {
   "cell_type": "code",
   "execution_count": 9,
   "id": "bfad5784",
   "metadata": {
    "ExecuteTime": {
     "end_time": "2021-05-26T03:03:58.000431Z",
     "start_time": "2021-05-26T03:03:57.995433Z"
    }
   },
   "outputs": [
    {
     "data": {
      "text/plain": [
       "{'a': 12, 'b': 121313}"
      ]
     },
     "execution_count": 9,
     "metadata": {},
     "output_type": "execute_result"
    }
   ],
   "source": [
    "a"
   ]
  },
  {
   "cell_type": "code",
   "execution_count": 10,
   "id": "d8844b91",
   "metadata": {
    "ExecuteTime": {
     "end_time": "2021-05-26T03:04:19.276638Z",
     "start_time": "2021-05-26T03:04:19.270639Z"
    }
   },
   "outputs": [
    {
     "data": {
      "text/plain": [
       "{'a': 124, 'b': 121313}"
      ]
     },
     "execution_count": 10,
     "metadata": {},
     "output_type": "execute_result"
    }
   ],
   "source": [
    "a[\"a\"]=124\n",
    "a"
   ]
  },
  {
   "cell_type": "markdown",
   "id": "844ad08b",
   "metadata": {},
   "source": [
    "딕셔너리 요소 삭제하기"
   ]
  },
  {
   "cell_type": "code",
   "execution_count": 11,
   "id": "dfeab122",
   "metadata": {
    "ExecuteTime": {
     "end_time": "2021-05-26T03:06:11.058175Z",
     "start_time": "2021-05-26T03:06:11.050179Z"
    }
   },
   "outputs": [
    {
     "data": {
      "text/plain": [
       "{'a': 124}"
      ]
     },
     "execution_count": 11,
     "metadata": {},
     "output_type": "execute_result"
    }
   ],
   "source": [
    "del a[\"b\"]\n",
    "a"
   ]
  },
  {
   "cell_type": "code",
   "execution_count": 12,
   "id": "e80df3bd",
   "metadata": {
    "ExecuteTime": {
     "end_time": "2021-05-26T03:08:05.017012Z",
     "start_time": "2021-05-26T03:08:05.004020Z"
    }
   },
   "outputs": [
    {
     "data": {
      "text/plain": [
       "{1: 'a', 'name': 'pey', 3: [1, 2, 3]}"
      ]
     },
     "execution_count": 12,
     "metadata": {},
     "output_type": "execute_result"
    }
   ],
   "source": [
    "a={1: 'a', 2: 'b', 'name': 'pey', 3: [1, 2, 3]}\n",
    "del a[2]\n",
    "a"
   ]
  },
  {
   "cell_type": "markdown",
   "id": "e68e996f",
   "metadata": {},
   "source": [
    "## 딕셔너리 관련 함수들\n",
    "\n",
    "딕셔너리를 자유자재로 사용하기 위해 딕셔너리가 자체적으로 가지고 있는 관련 함수를 사용해 보자.\n",
    "\n",
    "### Key 리스트 만들기(keys)"
   ]
  },
  {
   "cell_type": "code",
   "execution_count": 14,
   "id": "4afe877e",
   "metadata": {
    "ExecuteTime": {
     "end_time": "2021-05-26T03:10:35.241825Z",
     "start_time": "2021-05-26T03:10:35.234828Z"
    }
   },
   "outputs": [
    {
     "data": {
      "text/plain": [
       "dict_keys([1, 2, 'name', 3])"
      ]
     },
     "execution_count": 14,
     "metadata": {},
     "output_type": "execute_result"
    }
   ],
   "source": [
    "a={1: 'a', 2: 'b', 'name': 'pey', 3: [1, 2, 3]}\n",
    "a.keys()"
   ]
  },
  {
   "cell_type": "markdown",
   "id": "137dd0d2",
   "metadata": {},
   "source": [
    "### Value 리스트 만들기(values)"
   ]
  },
  {
   "cell_type": "code",
   "execution_count": 16,
   "id": "f86ac97a",
   "metadata": {
    "ExecuteTime": {
     "end_time": "2021-05-26T03:12:17.454925Z",
     "start_time": "2021-05-26T03:12:17.436935Z"
    }
   },
   "outputs": [
    {
     "data": {
      "text/plain": [
       "dict_values(['a', 'b', 'pey', [1, 2, 3]])"
      ]
     },
     "execution_count": 16,
     "metadata": {},
     "output_type": "execute_result"
    }
   ],
   "source": [
    "a.values()"
   ]
  },
  {
   "cell_type": "markdown",
   "id": "5eb1b999",
   "metadata": {},
   "source": [
    "### Key, Value 쌍 얻기(items)"
   ]
  },
  {
   "cell_type": "code",
   "execution_count": 17,
   "id": "117d82db",
   "metadata": {
    "ExecuteTime": {
     "end_time": "2021-05-26T03:13:24.031657Z",
     "start_time": "2021-05-26T03:13:24.016672Z"
    }
   },
   "outputs": [
    {
     "data": {
      "text/plain": [
       "dict_items([(1, 'a'), (2, 'b'), ('name', 'pey'), (3, [1, 2, 3])])"
      ]
     },
     "execution_count": 17,
     "metadata": {},
     "output_type": "execute_result"
    }
   ],
   "source": [
    "a={1: 'a', 2: 'b', 'name': 'pey', 3: [1, 2, 3]}\n",
    "a.items()"
   ]
  },
  {
   "cell_type": "code",
   "execution_count": 22,
   "id": "64ef7b23",
   "metadata": {
    "ExecuteTime": {
     "end_time": "2021-05-26T03:24:07.201810Z",
     "start_time": "2021-05-26T03:24:07.190831Z"
    }
   },
   "outputs": [
    {
     "data": {
      "text/plain": [
       "{1: 'a', 2: 'b', 'name': 'pey', 3: [1, 2, 3]}"
      ]
     },
     "execution_count": 22,
     "metadata": {},
     "output_type": "execute_result"
    }
   ],
   "source": [
    "dict([(1, 'a'), (2, 'b'), ('name', 'pey'), (3, [1, 2, 3])])"
   ]
  },
  {
   "cell_type": "code",
   "execution_count": 23,
   "id": "a3066df3",
   "metadata": {
    "ExecuteTime": {
     "end_time": "2021-05-26T03:27:31.275897Z",
     "start_time": "2021-05-26T03:27:31.264923Z"
    }
   },
   "outputs": [
    {
     "data": {
      "text/plain": [
       "{1: 2, 3: 4}"
      ]
     },
     "execution_count": 23,
     "metadata": {},
     "output_type": "execute_result"
    }
   ],
   "source": [
    "dict(([1,2],[3,4]))"
   ]
  },
  {
   "cell_type": "markdown",
   "id": "564d688e",
   "metadata": {},
   "source": [
    "### Key: Value 쌍 모두 지우기(clear)"
   ]
  },
  {
   "cell_type": "code",
   "execution_count": 24,
   "id": "922e0c9f",
   "metadata": {
    "ExecuteTime": {
     "end_time": "2021-05-26T03:28:18.423321Z",
     "start_time": "2021-05-26T03:28:18.418330Z"
    }
   },
   "outputs": [],
   "source": [
    "a.clear()"
   ]
  },
  {
   "cell_type": "code",
   "execution_count": 25,
   "id": "3410b525",
   "metadata": {
    "ExecuteTime": {
     "end_time": "2021-05-26T03:28:19.429213Z",
     "start_time": "2021-05-26T03:28:19.411208Z"
    }
   },
   "outputs": [
    {
     "data": {
      "text/plain": [
       "{}"
      ]
     },
     "execution_count": 25,
     "metadata": {},
     "output_type": "execute_result"
    }
   ],
   "source": [
    "a"
   ]
  },
  {
   "cell_type": "markdown",
   "id": "375d3d21",
   "metadata": {},
   "source": [
    "### Key로 Value얻기(get)"
   ]
  },
  {
   "cell_type": "code",
   "execution_count": 26,
   "id": "18eaf073",
   "metadata": {
    "ExecuteTime": {
     "end_time": "2021-05-26T03:29:18.788045Z",
     "start_time": "2021-05-26T03:29:18.770055Z"
    }
   },
   "outputs": [
    {
     "data": {
      "text/plain": [
       "'pey'"
      ]
     },
     "execution_count": 26,
     "metadata": {},
     "output_type": "execute_result"
    }
   ],
   "source": [
    "a={1: 'a', 2: 'b', 'name': 'pey', 3: [1, 2, 3]}\n",
    "a['name']"
   ]
  },
  {
   "cell_type": "code",
   "execution_count": 27,
   "id": "6d5acc41",
   "metadata": {
    "ExecuteTime": {
     "end_time": "2021-05-26T03:29:43.861370Z",
     "start_time": "2021-05-26T03:29:43.843379Z"
    }
   },
   "outputs": [
    {
     "data": {
      "text/plain": [
       "'pey'"
      ]
     },
     "execution_count": 27,
     "metadata": {},
     "output_type": "execute_result"
    }
   ],
   "source": [
    "a.get('name')"
   ]
  },
  {
   "cell_type": "markdown",
   "id": "17ad057c",
   "metadata": {},
   "source": [
    "### 해당 Key가 딕셔너리 안에 있는지 조사하기(in)"
   ]
  },
  {
   "cell_type": "code",
   "execution_count": 28,
   "id": "5aee92fb",
   "metadata": {
    "ExecuteTime": {
     "end_time": "2021-05-26T03:31:37.829526Z",
     "start_time": "2021-05-26T03:31:37.823537Z"
    }
   },
   "outputs": [
    {
     "data": {
      "text/plain": [
       "True"
      ]
     },
     "execution_count": 28,
     "metadata": {},
     "output_type": "execute_result"
    }
   ],
   "source": [
    "a = {'name':'pey', 'phone':'0119993323', 'birth': '1118'}\n",
    "'name' in a\n"
   ]
  },
  {
   "cell_type": "code",
   "execution_count": 29,
   "id": "89f06024",
   "metadata": {
    "ExecuteTime": {
     "end_time": "2021-05-26T03:31:56.367972Z",
     "start_time": "2021-05-26T03:31:56.360996Z"
    }
   },
   "outputs": [
    {
     "data": {
      "text/plain": [
       "False"
      ]
     },
     "execution_count": 29,
     "metadata": {},
     "output_type": "execute_result"
    }
   ],
   "source": [
    "a = {'name':'pey', 'phone':'0119993323', 'birth': '1118'}\n",
    "'email' in a"
   ]
  },
  {
   "cell_type": "code",
   "execution_count": 30,
   "id": "4b42c10d",
   "metadata": {
    "ExecuteTime": {
     "end_time": "2021-05-26T05:09:23.148919Z",
     "start_time": "2021-05-26T05:09:23.142922Z"
    }
   },
   "outputs": [
    {
     "data": {
      "text/plain": [
       "set"
      ]
     },
     "execution_count": 30,
     "metadata": {},
     "output_type": "execute_result"
    }
   ],
   "source": [
    "s1 =set([1,2,3])\n",
    "type(s1)"
   ]
  },
  {
   "cell_type": "code",
   "execution_count": 31,
   "id": "37176b05",
   "metadata": {
    "ExecuteTime": {
     "end_time": "2021-05-26T05:09:42.960405Z",
     "start_time": "2021-05-26T05:09:42.943427Z"
    }
   },
   "outputs": [],
   "source": [
    "s1={}"
   ]
  },
  {
   "cell_type": "code",
   "execution_count": 32,
   "id": "6df26e44",
   "metadata": {
    "ExecuteTime": {
     "end_time": "2021-05-26T05:09:56.943141Z",
     "start_time": "2021-05-26T05:09:56.936165Z"
    }
   },
   "outputs": [],
   "source": [
    "s2=set(\"Hello\")"
   ]
  },
  {
   "cell_type": "code",
   "execution_count": 33,
   "id": "c4124524",
   "metadata": {
    "ExecuteTime": {
     "end_time": "2021-05-26T05:10:01.816757Z",
     "start_time": "2021-05-26T05:10:01.802750Z"
    }
   },
   "outputs": [
    {
     "data": {
      "text/plain": [
       "{'H', 'e', 'l', 'o'}"
      ]
     },
     "execution_count": 33,
     "metadata": {},
     "output_type": "execute_result"
    }
   ],
   "source": [
    "s2"
   ]
  },
  {
   "cell_type": "code",
   "execution_count": 38,
   "id": "f74d5fc0",
   "metadata": {
    "ExecuteTime": {
     "end_time": "2021-05-26T05:11:13.792919Z",
     "start_time": "2021-05-26T05:11:13.774935Z"
    }
   },
   "outputs": [
    {
     "ename": "SyntaxError",
     "evalue": "can't assign to literal (<ipython-input-38-662563ccffd9>, line 1)",
     "output_type": "error",
     "traceback": [
      "\u001b[1;36m  File \u001b[1;32m\"<ipython-input-38-662563ccffd9>\"\u001b[1;36m, line \u001b[1;32m1\u001b[0m\n\u001b[1;33m    1=list[\"Hello\"]\u001b[0m\n\u001b[1;37m                   ^\u001b[0m\n\u001b[1;31mSyntaxError\u001b[0m\u001b[1;31m:\u001b[0m can't assign to literal\n"
     ]
    }
   ],
   "source": [
    "1=list[\"Hello\"]"
   ]
  },
  {
   "cell_type": "markdown",
   "id": "4c518ba6",
   "metadata": {},
   "source": [
    "## 집합 자료형의 특징\n",
    "\n",
    "자, 그런데 위에서 살펴본 set(\"Hello\")의 결과가 좀 이상하지 않은가? 분명 \"Hello\" 문자열로 set 자료형을 만들었는데 생성된 자료형에는 l 문자가 하나 빠져 있고 순서도 뒤죽박죽이다. 그 이유는 set에 다음과 같은 2가지 큰 특징이 있기 때문이다.\n",
    "\n",
    "- 중복을 허용하지 않는다.\n",
    "- 순서가 없다(Unordered).\n",
    "\n",
    "리스트나 튜플은 순서가 있기(ordered) 때문에 인덱싱을 통해 자료형의 값을 얻을 수 있지만 set 자료형은 순서가 없기(unordered) 때문에 인덱싱으로 값을 얻을 수 없다. 이는 마치 02-5에서 살펴본 딕셔너리와 비슷하다. 딕셔너리 역시 순서가 없는 자료형이라 인덱싱을 지원하지 않는다.\n",
    "\n",
    "만약 set 자료형에 저장된 값을 인덱싱으로 접근하려면 다음과 같이 리스트나 튜플로 변환한후 해야 한다."
   ]
  },
  {
   "cell_type": "code",
   "execution_count": 40,
   "id": "57a9f79e",
   "metadata": {
    "ExecuteTime": {
     "end_time": "2021-05-26T05:14:15.051948Z",
     "start_time": "2021-05-26T05:14:15.041951Z"
    }
   },
   "outputs": [
    {
     "data": {
      "text/plain": [
       "(1, 2, 3)"
      ]
     },
     "execution_count": 40,
     "metadata": {},
     "output_type": "execute_result"
    }
   ],
   "source": [
    "s1={1,2,1,2,1,2,3}\n",
    "s1 =tuple(set(s1))\n",
    "s1"
   ]
  },
  {
   "cell_type": "markdown",
   "id": "b894eb39",
   "metadata": {},
   "source": [
    "## 교집합, 합집합, 차집합 구하기\n",
    "\n",
    "set 자료형을 정말 유용하게 사용하는 경우는 교집합, 합집합, 차집합을 구할 때이다.\n",
    "\n",
    "우선 다음과 같이 2개의 set 자료형을 만든 후 따라 해 보자. s1은 1부터 6까지의 값을 가지게 되었고, s2는 4부터 9까지의 값을 가지게 되었다."
   ]
  },
  {
   "cell_type": "code",
   "execution_count": 42,
   "id": "925250ec",
   "metadata": {
    "ExecuteTime": {
     "end_time": "2021-05-26T05:21:06.907426Z",
     "start_time": "2021-05-26T05:21:06.900430Z"
    }
   },
   "outputs": [],
   "source": [
    "s1 = set([1, 2, 3, 4, 5, 6])\n",
    "s2 = set([4, 5, 6, 7, 8, 9])"
   ]
  },
  {
   "cell_type": "markdown",
   "id": "c7dab3a1",
   "metadata": {},
   "source": [
    "### 1. 교집합\n",
    "\n",
    "s1과 s2의 교집합을 구해 보자."
   ]
  },
  {
   "cell_type": "code",
   "execution_count": 43,
   "id": "8278530a",
   "metadata": {
    "ExecuteTime": {
     "end_time": "2021-05-26T05:21:32.623634Z",
     "start_time": "2021-05-26T05:21:32.603631Z"
    }
   },
   "outputs": [
    {
     "data": {
      "text/plain": [
       "{4, 5, 6}"
      ]
     },
     "execution_count": 43,
     "metadata": {},
     "output_type": "execute_result"
    }
   ],
   "source": [
    "s1 & s2"
   ]
  },
  {
   "cell_type": "code",
   "execution_count": 44,
   "id": "34d8ee25",
   "metadata": {
    "ExecuteTime": {
     "end_time": "2021-05-26T05:23:05.898419Z",
     "start_time": "2021-05-26T05:23:05.880414Z"
    }
   },
   "outputs": [
    {
     "data": {
      "text/plain": [
       "{4, 5, 6}"
      ]
     },
     "execution_count": 44,
     "metadata": {},
     "output_type": "execute_result"
    }
   ],
   "source": [
    "s1.intersection(s2)"
   ]
  },
  {
   "cell_type": "markdown",
   "id": "3d25b3ca",
   "metadata": {},
   "source": [
    "### 2. 합집합\n",
    "\n",
    "합집합은 다음과 같이 구할 수 있다. 이때 4, 5, 6처럼 중복해서 포함된 값은 한 개씩만 표현된다.\n",
    "\n",
    "```\n",
    ">>> s1 | s2\n",
    "{1, 2, 3, 4, 5, 6, 7, 8, 9}\n",
    "```\n",
    "\n"
   ]
  },
  {
   "cell_type": "code",
   "execution_count": 45,
   "id": "04f0a4e7",
   "metadata": {
    "ExecuteTime": {
     "end_time": "2021-05-26T05:23:32.274988Z",
     "start_time": "2021-05-26T05:23:32.258982Z"
    }
   },
   "outputs": [
    {
     "data": {
      "text/plain": [
       "{1, 2, 3, 4, 5, 6, 7, 8, 9}"
      ]
     },
     "execution_count": 45,
     "metadata": {},
     "output_type": "execute_result"
    }
   ],
   "source": [
    "s1 | s2"
   ]
  },
  {
   "cell_type": "code",
   "execution_count": 46,
   "id": "f92be0b5",
   "metadata": {
    "ExecuteTime": {
     "end_time": "2021-05-26T05:23:42.841917Z",
     "start_time": "2021-05-26T05:23:42.829926Z"
    }
   },
   "outputs": [
    {
     "data": {
      "text/plain": [
       "{1, 2, 3, 4, 5, 6}"
      ]
     },
     "execution_count": 46,
     "metadata": {},
     "output_type": "execute_result"
    }
   ],
   "source": [
    "s1"
   ]
  },
  {
   "cell_type": "code",
   "execution_count": 47,
   "id": "ec2cfc88",
   "metadata": {
    "ExecuteTime": {
     "end_time": "2021-05-26T05:23:45.050748Z",
     "start_time": "2021-05-26T05:23:45.034744Z"
    }
   },
   "outputs": [
    {
     "data": {
      "text/plain": [
       "{4, 5, 6, 7, 8, 9}"
      ]
     },
     "execution_count": 47,
     "metadata": {},
     "output_type": "execute_result"
    }
   ],
   "source": [
    "s2"
   ]
  },
  {
   "cell_type": "code",
   "execution_count": 49,
   "id": "42695ca6",
   "metadata": {
    "ExecuteTime": {
     "end_time": "2021-05-26T05:24:07.895754Z",
     "start_time": "2021-05-26T05:24:07.884761Z"
    }
   },
   "outputs": [
    {
     "data": {
      "text/plain": [
       "{1, 2, 3, 4, 5, 6, 7, 8, 9}"
      ]
     },
     "execution_count": 49,
     "metadata": {},
     "output_type": "execute_result"
    }
   ],
   "source": [
    "s1.union(s2)"
   ]
  },
  {
   "cell_type": "markdown",
   "id": "b78cf4e9",
   "metadata": {},
   "source": [
    "### 3. 차집합\n",
    "\n",
    "차집합은 다음과 같이 구할 수 있다."
   ]
  },
  {
   "cell_type": "code",
   "execution_count": 50,
   "id": "1b80ba49",
   "metadata": {
    "ExecuteTime": {
     "end_time": "2021-05-26T05:24:47.527704Z",
     "start_time": "2021-05-26T05:24:47.508716Z"
    }
   },
   "outputs": [
    {
     "data": {
      "text/plain": [
       "{1, 2, 3}"
      ]
     },
     "execution_count": 50,
     "metadata": {},
     "output_type": "execute_result"
    }
   ],
   "source": [
    " s1 - s2"
   ]
  },
  {
   "cell_type": "code",
   "execution_count": 51,
   "id": "a996fd6e",
   "metadata": {
    "ExecuteTime": {
     "end_time": "2021-05-26T05:25:03.251323Z",
     "start_time": "2021-05-26T05:25:03.233337Z"
    }
   },
   "outputs": [
    {
     "data": {
      "text/plain": [
       "{7, 8, 9}"
      ]
     },
     "execution_count": 51,
     "metadata": {},
     "output_type": "execute_result"
    }
   ],
   "source": [
    "s2 - s1"
   ]
  },
  {
   "cell_type": "code",
   "execution_count": 52,
   "id": "61e42f4b",
   "metadata": {
    "ExecuteTime": {
     "end_time": "2021-05-26T05:25:08.568914Z",
     "start_time": "2021-05-26T05:25:08.563936Z"
    }
   },
   "outputs": [
    {
     "data": {
      "text/plain": [
       "{1, 2, 3}"
      ]
     },
     "execution_count": 52,
     "metadata": {},
     "output_type": "execute_result"
    }
   ],
   "source": [
    "s1.difference(s2)"
   ]
  },
  {
   "cell_type": "markdown",
   "id": "0bd592a1",
   "metadata": {},
   "source": [
    "### 4.대칭차집합\n",
    "다음과 같이 구할 수 있다."
   ]
  },
  {
   "cell_type": "code",
   "execution_count": 53,
   "id": "ed233f9e",
   "metadata": {
    "ExecuteTime": {
     "end_time": "2021-05-26T05:27:15.414367Z",
     "start_time": "2021-05-26T05:27:15.398377Z"
    }
   },
   "outputs": [
    {
     "data": {
      "text/plain": [
       "{1, 2, 3, 7, 8, 9}"
      ]
     },
     "execution_count": 53,
     "metadata": {},
     "output_type": "execute_result"
    }
   ],
   "source": [
    "s1^s2"
   ]
  },
  {
   "cell_type": "code",
   "execution_count": 54,
   "id": "f4e89a28",
   "metadata": {
    "ExecuteTime": {
     "end_time": "2021-05-26T05:28:05.902165Z",
     "start_time": "2021-05-26T05:28:05.894182Z"
    }
   },
   "outputs": [
    {
     "data": {
      "text/plain": [
       "{1, 2, 3, 7, 8, 9}"
      ]
     },
     "execution_count": 54,
     "metadata": {},
     "output_type": "execute_result"
    }
   ],
   "source": [
    "s1.symmetric_difference(s2)"
   ]
  },
  {
   "cell_type": "markdown",
   "id": "e52d9829",
   "metadata": {},
   "source": [
    "## 집합 자료형 관련 함수들\n",
    "\n",
    "### 값 1개 추가하기(add)\n",
    "\n",
    "이미 만들어진 set 자료형에 값을 추가할 수 있다. 1개의 값만 추가(add)할 경우에는 다음과 같이 한다.\n",
    " "
   ]
  },
  {
   "cell_type": "code",
   "execution_count": 55,
   "id": "8bb15ac0",
   "metadata": {
    "ExecuteTime": {
     "end_time": "2021-05-26T05:30:50.109024Z",
     "start_time": "2021-05-26T05:30:50.098039Z"
    }
   },
   "outputs": [
    {
     "data": {
      "text/plain": [
       "{1: 2, 3: 4}"
      ]
     },
     "execution_count": 55,
     "metadata": {},
     "output_type": "execute_result"
    }
   ],
   "source": [
    "dict({(1,2),(3,4)})"
   ]
  },
  {
   "cell_type": "code",
   "execution_count": 63,
   "id": "41251c97",
   "metadata": {
    "ExecuteTime": {
     "end_time": "2021-05-26T05:35:28.113316Z",
     "start_time": "2021-05-26T05:35:28.097309Z"
    }
   },
   "outputs": [
    {
     "name": "stdout",
     "output_type": "stream",
     "text": [
      "(1, 2)\n",
      "(3, 4)\n"
     ]
    }
   ],
   "source": [
    "s1=({(1,2),(3,4)})\n",
    "s2=set({})\n",
    "for i in s1:\n",
    "    print(i)\n",
    "    a =list(i)\n",
    "\n"
   ]
  },
  {
   "cell_type": "code",
   "execution_count": null,
   "id": "d3a6df39",
   "metadata": {},
   "outputs": [],
   "source": []
  }
 ],
 "metadata": {
  "hide_input": false,
  "kernelspec": {
   "display_name": "Python 3",
   "language": "python",
   "name": "python3"
  },
  "language_info": {
   "codemirror_mode": {
    "name": "ipython",
    "version": 3
   },
   "file_extension": ".py",
   "mimetype": "text/x-python",
   "name": "python",
   "nbconvert_exporter": "python",
   "pygments_lexer": "ipython3",
   "version": "3.7.9"
  },
  "varInspector": {
   "cols": {
    "lenName": 16,
    "lenType": 16,
    "lenVar": 40
   },
   "kernels_config": {
    "python": {
     "delete_cmd_postfix": "",
     "delete_cmd_prefix": "del ",
     "library": "var_list.py",
     "varRefreshCmd": "print(var_dic_list())"
    },
    "r": {
     "delete_cmd_postfix": ") ",
     "delete_cmd_prefix": "rm(",
     "library": "var_list.r",
     "varRefreshCmd": "cat(var_dic_list()) "
    }
   },
   "types_to_exclude": [
    "module",
    "function",
    "builtin_function_or_method",
    "instance",
    "_Feature"
   ],
   "window_display": false
  }
 },
 "nbformat": 4,
 "nbformat_minor": 5
}
