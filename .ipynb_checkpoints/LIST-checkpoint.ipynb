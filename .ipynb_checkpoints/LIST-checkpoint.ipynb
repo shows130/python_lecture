{
 "cells": [
  {
   "cell_type": "code",
   "execution_count": 2,
   "id": "aae7b0bf",
   "metadata": {
    "ExecuteTime": {
     "end_time": "2021-05-26T00:27:01.833855Z",
     "start_time": "2021-05-26T00:27:01.815867Z"
    }
   },
   "outputs": [
    {
     "data": {
      "text/plain": [
       "list"
      ]
     },
     "execution_count": 2,
     "metadata": {},
     "output_type": "execute_result"
    }
   ],
   "source": [
    "even_list = [2,4,6,8,10]\n",
    "type(even_list)"
   ]
  },
  {
   "cell_type": "code",
   "execution_count": 3,
   "id": "3fad3aef",
   "metadata": {
    "ExecuteTime": {
     "end_time": "2021-05-26T00:27:59.037564Z",
     "start_time": "2021-05-26T00:27:59.019595Z"
    }
   },
   "outputs": [
    {
     "data": {
      "text/plain": [
       "range"
      ]
     },
     "execution_count": 3,
     "metadata": {},
     "output_type": "execute_result"
    }
   ],
   "source": [
    "list_data=range(10)\n",
    "type(list_data)"
   ]
  },
  {
   "cell_type": "code",
   "execution_count": 10,
   "id": "98ddb876",
   "metadata": {
    "ExecuteTime": {
     "end_time": "2021-05-26T00:33:36.188956Z",
     "start_time": "2021-05-26T00:33:36.181960Z"
    }
   },
   "outputs": [
    {
     "name": "stdout",
     "output_type": "stream",
     "text": [
      "[2, 4, 6, 8, 10]\n"
     ]
    }
   ],
   "source": [
    "list_data = []\n",
    "for i in range(1, 11):\n",
    "    if i%2 == 0:\n",
    "        list_data.append(i)\n",
    "list_data_1 =[]       \n",
    "for i in list_data:\n",
    "    if i ==4:\n",
    "        continue\n",
    "        list_data_1.append(i)\n",
    "        \n",
    "print(list_data)        \n"
   ]
  },
  {
   "cell_type": "markdown",
   "id": "7a997618",
   "metadata": {},
   "source": [
    "### 리스트 자료형"
   ]
  },
  {
   "cell_type": "markdown",
   "id": "42f31742",
   "metadata": {},
   "source": [
    "지금까지 우리는 숫자와 문자열에 대해서 알아보았다. 하지만 숫자와 문자열만으로 프로그래밍을 하기엔 부족한 점이 많다. 예를 들어 1부터 10까지의 숫자 중 홀수 모음인 1, 3, 5, 7, 9의 집합을 생각해 보자. 이런 숫자 모음을 숫자나 문자열로 표현하기는 쉽지 않다. 파이썬에는 이러한 불편함을 해소할 수 있는 자료형이 존재한다. 그것이 바로 여기에서 공부할 리스트(List)이다."
   ]
  },
  {
   "cell_type": "code",
   "execution_count": 12,
   "id": "e67bc20b",
   "metadata": {
    "ExecuteTime": {
     "end_time": "2021-05-26T00:43:21.438894Z",
     "start_time": "2021-05-26T00:43:21.425902Z"
    }
   },
   "outputs": [],
   "source": [
    "odd = [1, 3, 5, 7, 9]"
   ]
  },
  {
   "cell_type": "markdown",
   "id": "3fec5102",
   "metadata": {},
   "source": [
    "## 리스트는 어떻게 만들고 사용할까?\n",
    "\n",
    "리스트를 사용하면 1, 3, 5, 7, 9 숫자 모음을 다음과 같이 간단하게 표현할 수 있다.\n",
    "\n",
    "```\n",
    ">>> odd = [1, 3, 5, 7, 9]\n",
    "```\n",
    "\n",
    "리스트를 만들 때는 위에서 보는 것과 같이 대괄호([ ])로 감싸 주고 각 요솟값은 쉼표(,)로 구분해 준다.\n",
    "\n",
    "```\n",
    "리스트명 = [요소1, 요소2, 요소3, ...]\n",
    "```\n",
    "\n",
    "여러 가지 리스트의 생김새를 살펴보면 다음과 같다.\n",
    "\n",
    "```\n",
    ">>> a = []\n",
    ">>> b = [1, 2, 3]\n",
    ">>> c = ['Life', 'is', 'too', 'short']\n",
    ">>> d = [1, 2, 'Life', 'is']\n",
    ">>> e = [1, 2, ['Life', 'is']]\n",
    "```\n",
    "\n",
    "리스트는 a처럼 아무것도 포함하지 않아 비어 있는 리스트([ ])일 수도 있고 b처럼 숫자를 요솟값으로 가질 수도 있고 c처럼 문자열을 요솟값으로 가질 수도 있다. 또한 d처럼 숫자와 문자열을 함께 요솟값으로 가질 수도 있으며 e처럼 리스트 자체를 요솟값으로 가질 수도 있다. 즉 리스트 안에는 어떠한 자료형도 포함시킬 수 있다.\n",
    "\n",
    "> ※ 비어 있는 리스트는 a = list()로 생성할 수도 있다."
   ]
  },
  {
   "cell_type": "code",
   "execution_count": 23,
   "id": "74360881",
   "metadata": {
    "ExecuteTime": {
     "end_time": "2021-05-26T00:53:04.761833Z",
     "start_time": "2021-05-26T00:53:04.751869Z"
    }
   },
   "outputs": [
    {
     "data": {
      "text/plain": [
       "[1, 2, 3]"
      ]
     },
     "execution_count": 23,
     "metadata": {},
     "output_type": "execute_result"
    }
   ],
   "source": [
    "a = [1, 2, 3]\n",
    "a\n",
    "[1, 2, 3]"
   ]
  },
  {
   "cell_type": "code",
   "execution_count": 16,
   "id": "97206822",
   "metadata": {
    "ExecuteTime": {
     "end_time": "2021-05-26T00:47:44.414728Z",
     "start_time": "2021-05-26T00:47:44.400733Z"
    }
   },
   "outputs": [
    {
     "data": {
      "text/plain": [
       "4"
      ]
     },
     "execution_count": 16,
     "metadata": {},
     "output_type": "execute_result"
    }
   ],
   "source": [
    "a[0]+a[2]"
   ]
  },
  {
   "cell_type": "code",
   "execution_count": 25,
   "id": "af45093e",
   "metadata": {
    "ExecuteTime": {
     "end_time": "2021-05-26T00:53:11.166818Z",
     "start_time": "2021-05-26T00:53:11.152846Z"
    }
   },
   "outputs": [
    {
     "data": {
      "text/plain": [
       "2"
      ]
     },
     "execution_count": 25,
     "metadata": {},
     "output_type": "execute_result"
    }
   ],
   "source": [
    "a[-2]"
   ]
  },
  {
   "cell_type": "code",
   "execution_count": 26,
   "id": "2273ace8",
   "metadata": {
    "ExecuteTime": {
     "end_time": "2021-05-26T00:53:12.907984Z",
     "start_time": "2021-05-26T00:53:12.890983Z"
    }
   },
   "outputs": [],
   "source": [
    "a=[1,2,3,[\"a\",\"b\",\"c\"]]"
   ]
  },
  {
   "cell_type": "code",
   "execution_count": 27,
   "id": "9d24656e",
   "metadata": {
    "ExecuteTime": {
     "end_time": "2021-05-26T01:11:34.799391Z",
     "start_time": "2021-05-26T01:11:34.781402Z"
    }
   },
   "outputs": [
    {
     "data": {
      "text/plain": [
       "['a', 'b', 'c']"
      ]
     },
     "execution_count": 27,
     "metadata": {},
     "output_type": "execute_result"
    }
   ],
   "source": [
    "a[3]"
   ]
  },
  {
   "cell_type": "markdown",
   "id": "ce1aab37",
   "metadata": {
    "ExecuteTime": {
     "end_time": "2021-05-26T01:11:56.505889Z",
     "start_time": "2021-05-26T01:11:56.493907Z"
    }
   },
   "source": [
    "a[3][-2]"
   ]
  },
  {
   "cell_type": "code",
   "execution_count": 29,
   "id": "10f7d6c6",
   "metadata": {
    "ExecuteTime": {
     "end_time": "2021-05-26T01:12:04.507239Z",
     "start_time": "2021-05-26T01:12:04.500251Z"
    }
   },
   "outputs": [
    {
     "data": {
      "text/plain": [
       "'b'"
      ]
     },
     "execution_count": 29,
     "metadata": {},
     "output_type": "execute_result"
    }
   ],
   "source": [
    "a[3][1]"
   ]
  },
  {
   "cell_type": "markdown",
   "id": "3c2b7bc4",
   "metadata": {},
   "source": [
    "### 리스트의 슬라이싱\n",
    "\n",
    "문자열과 마찬가지로 리스트에서도 슬라이싱 기법을 적용할 수 있다. 슬라이싱은 ‘나눈다’는 뜻이라고 했다."
   ]
  },
  {
   "cell_type": "code",
   "execution_count": 40,
   "id": "a9edda1b",
   "metadata": {
    "ExecuteTime": {
     "end_time": "2021-05-26T01:18:52.249350Z",
     "start_time": "2021-05-26T01:18:52.231366Z"
    }
   },
   "outputs": [
    {
     "data": {
      "text/plain": [
       "[2, 3, 4]"
      ]
     },
     "execution_count": 40,
     "metadata": {},
     "output_type": "execute_result"
    }
   ],
   "source": [
    "a=[1,2,3,4,5]\n",
    "a[1:4]"
   ]
  },
  {
   "cell_type": "code",
   "execution_count": 41,
   "id": "ef8143cc",
   "metadata": {
    "ExecuteTime": {
     "end_time": "2021-05-26T01:18:58.218847Z",
     "start_time": "2021-05-26T01:18:58.200856Z"
    }
   },
   "outputs": [],
   "source": [
    "b = a[:4]"
   ]
  },
  {
   "cell_type": "code",
   "execution_count": 42,
   "id": "55c07506",
   "metadata": {
    "ExecuteTime": {
     "end_time": "2021-05-26T01:19:00.361514Z",
     "start_time": "2021-05-26T01:19:00.349536Z"
    }
   },
   "outputs": [],
   "source": [
    "c = a[1:]"
   ]
  },
  {
   "cell_type": "code",
   "execution_count": 43,
   "id": "60524cba",
   "metadata": {
    "ExecuteTime": {
     "end_time": "2021-05-26T01:19:06.598820Z",
     "start_time": "2021-05-26T01:19:06.585826Z"
    }
   },
   "outputs": [
    {
     "data": {
      "text/plain": [
       "[1, 2, 3, 4, 5]"
      ]
     },
     "execution_count": 43,
     "metadata": {},
     "output_type": "execute_result"
    }
   ],
   "source": [
    "a[:]"
   ]
  },
  {
   "cell_type": "markdown",
   "id": "9c86d6b0",
   "metadata": {},
   "source": [
    "리스트 더하기(+)"
   ]
  },
  {
   "cell_type": "code",
   "execution_count": 46,
   "id": "3503ab4c",
   "metadata": {
    "ExecuteTime": {
     "end_time": "2021-05-26T01:24:20.586450Z",
     "start_time": "2021-05-26T01:24:20.566684Z"
    }
   },
   "outputs": [
    {
     "data": {
      "text/plain": [
       "[1, 2, 3, 1, 2, 3, 1, 2, 3]"
      ]
     },
     "execution_count": 46,
     "metadata": {},
     "output_type": "execute_result"
    }
   ],
   "source": [
    ">>> a = [1, 2, 3]\n",
    "a*3"
   ]
  },
  {
   "cell_type": "markdown",
   "id": "c5e30763",
   "metadata": {},
   "source": [
    "리스트 더하기(+)"
   ]
  },
  {
   "cell_type": "code",
   "execution_count": 48,
   "id": "50f7da00",
   "metadata": {
    "ExecuteTime": {
     "end_time": "2021-05-26T01:25:51.828396Z",
     "start_time": "2021-05-26T01:25:51.817418Z"
    }
   },
   "outputs": [
    {
     "data": {
      "text/plain": [
       "[1, 2, 3, 4, 5, 6]"
      ]
     },
     "execution_count": 48,
     "metadata": {},
     "output_type": "execute_result"
    }
   ],
   "source": [
    ">>> a = [1, 2, 3]\n",
    ">>> b = [4, 5, 6]\n",
    ">>> a + b"
   ]
  },
  {
   "cell_type": "markdown",
   "id": "2a9280c6",
   "metadata": {},
   "source": [
    "리스트 반복하기(`*`)"
   ]
  },
  {
   "cell_type": "code",
   "execution_count": 50,
   "id": "92e81ae5",
   "metadata": {
    "ExecuteTime": {
     "end_time": "2021-05-26T01:27:04.067648Z",
     "start_time": "2021-05-26T01:27:04.051660Z"
    }
   },
   "outputs": [
    {
     "ename": "TypeError",
     "evalue": "can't multiply sequence by non-int of type 'list'",
     "output_type": "error",
     "traceback": [
      "\u001b[1;31m-------------------------------------------------------------------------\u001b[0m",
      "\u001b[1;31mTypeError\u001b[0m                               Traceback (most recent call last)",
      "\u001b[1;32m<ipython-input-50-841ae4426742>\u001b[0m in \u001b[0;36m<module>\u001b[1;34m\u001b[0m\n\u001b[0;32m      1\u001b[0m \u001b[0ma\u001b[0m \u001b[1;33m=\u001b[0m \u001b[1;33m[\u001b[0m\u001b[1;36m1\u001b[0m\u001b[1;33m,\u001b[0m \u001b[1;36m2\u001b[0m\u001b[1;33m,\u001b[0m \u001b[1;36m3\u001b[0m\u001b[1;33m]\u001b[0m\u001b[1;33m\u001b[0m\u001b[1;33m\u001b[0m\u001b[0m\n\u001b[0;32m      2\u001b[0m \u001b[0mb\u001b[0m \u001b[1;33m=\u001b[0m \u001b[1;33m[\u001b[0m\u001b[1;36m4\u001b[0m\u001b[1;33m,\u001b[0m \u001b[1;36m5\u001b[0m\u001b[1;33m,\u001b[0m \u001b[1;36m6\u001b[0m\u001b[1;33m]\u001b[0m\u001b[1;33m\u001b[0m\u001b[1;33m\u001b[0m\u001b[0m\n\u001b[1;32m----> 3\u001b[1;33m \u001b[0ma\u001b[0m\u001b[1;33m*\u001b[0m\u001b[0mb\u001b[0m\u001b[1;33m\u001b[0m\u001b[1;33m\u001b[0m\u001b[0m\n\u001b[0m",
      "\u001b[1;31mTypeError\u001b[0m: can't multiply sequence by non-int of type 'list'"
     ]
    }
   ],
   "source": [
    ">>> a = [1, 2, 3]\n",
    ">>> b = [4, 5, 6]\n",
    "a*b"
   ]
  },
  {
   "cell_type": "markdown",
   "id": "f8d23e81",
   "metadata": {},
   "source": [
    "### 리스트 길이구하기\n",
    "\n",
    "리스트 길이를 구하기 위해서는 다음처럼 len 함수를 사용해야 한다."
   ]
  },
  {
   "cell_type": "code",
   "execution_count": 51,
   "id": "21124d41",
   "metadata": {
    "ExecuteTime": {
     "end_time": "2021-05-26T01:27:37.695198Z",
     "start_time": "2021-05-26T01:27:37.682194Z"
    }
   },
   "outputs": [
    {
     "data": {
      "text/plain": [
       "3"
      ]
     },
     "execution_count": 51,
     "metadata": {},
     "output_type": "execute_result"
    }
   ],
   "source": [
    ">>> a = [1, 2, 3]\n",
    ">>> len(a)"
   ]
  },
  {
   "cell_type": "markdown",
   "id": "c39b4941",
   "metadata": {},
   "source": [
    "리스트에서 값 수정하기"
   ]
  },
  {
   "cell_type": "code",
   "execution_count": 55,
   "id": "df73a041",
   "metadata": {
    "ExecuteTime": {
     "end_time": "2021-05-26T01:30:45.630196Z",
     "start_time": "2021-05-26T01:30:45.620202Z"
    }
   },
   "outputs": [
    {
     "data": {
      "text/plain": [
       "[1, 2, 4]"
      ]
     },
     "execution_count": 55,
     "metadata": {},
     "output_type": "execute_result"
    }
   ],
   "source": [
    "a=[1,2,3]\n",
    "a[2] = 4\n",
    "a"
   ]
  },
  {
   "cell_type": "markdown",
   "id": "5b7b7fa1",
   "metadata": {},
   "source": [
    "del 함수 사용해 리스트 요소 삭제하기"
   ]
  },
  {
   "cell_type": "code",
   "execution_count": 54,
   "id": "ea91bc7a",
   "metadata": {
    "ExecuteTime": {
     "end_time": "2021-05-26T01:30:24.479805Z",
     "start_time": "2021-05-26T01:30:24.474801Z"
    }
   },
   "outputs": [
    {
     "data": {
      "text/plain": [
       "[1, 3]"
      ]
     },
     "execution_count": 54,
     "metadata": {},
     "output_type": "execute_result"
    }
   ],
   "source": [
    "a=[1,2,3]\n",
    "del a[1]\n",
    "a"
   ]
  },
  {
   "cell_type": "code",
   "execution_count": 56,
   "id": "fb2ea3a3",
   "metadata": {
    "ExecuteTime": {
     "end_time": "2021-05-26T01:34:26.327471Z",
     "start_time": "2021-05-26T01:34:26.319475Z"
    }
   },
   "outputs": [],
   "source": [
    "a=[1,2,3,4,5,32,3,4,1,2,4,5,]\n",
    "del a[2:4]"
   ]
  },
  {
   "cell_type": "code",
   "execution_count": 57,
   "id": "16f0700f",
   "metadata": {
    "ExecuteTime": {
     "end_time": "2021-05-26T01:34:29.033588Z",
     "start_time": "2021-05-26T01:34:29.024593Z"
    }
   },
   "outputs": [
    {
     "data": {
      "text/plain": [
       "[1, 2, 5, 32, 3, 4, 1, 2, 4, 5]"
      ]
     },
     "execution_count": 57,
     "metadata": {},
     "output_type": "execute_result"
    }
   ],
   "source": [
    "a"
   ]
  },
  {
   "cell_type": "markdown",
   "id": "19075f3a",
   "metadata": {},
   "source": [
    "### 리스트 요소 제거(remove)\n",
    "\n",
    "remove(x)는 리스트에서 첫 번째로 나오는 x를 삭제하는 함수이다."
   ]
  },
  {
   "cell_type": "code",
   "execution_count": 60,
   "id": "8a7d724d",
   "metadata": {
    "ExecuteTime": {
     "end_time": "2021-05-26T01:37:26.739200Z",
     "start_time": "2021-05-26T01:37:26.731205Z"
    }
   },
   "outputs": [
    {
     "data": {
      "text/plain": [
       "[1, 3, 4]"
      ]
     },
     "execution_count": 60,
     "metadata": {},
     "output_type": "execute_result"
    }
   ],
   "source": [
    "a= [1,2,3,4,]\n",
    "a.remove(2)\n",
    "a"
   ]
  },
  {
   "cell_type": "markdown",
   "id": "ce61814b",
   "metadata": {},
   "source": [
    "리스트 요소 끄집어내기(pop)"
   ]
  },
  {
   "cell_type": "code",
   "execution_count": 61,
   "id": "be3c1bed",
   "metadata": {
    "ExecuteTime": {
     "end_time": "2021-05-26T01:38:27.967079Z",
     "start_time": "2021-05-26T01:38:27.955089Z"
    }
   },
   "outputs": [
    {
     "data": {
      "text/plain": [
       "3"
      ]
     },
     "execution_count": 61,
     "metadata": {},
     "output_type": "execute_result"
    }
   ],
   "source": [
    "a=[1,2,3,]\n",
    "a.pop()"
   ]
  },
  {
   "cell_type": "code",
   "execution_count": 62,
   "id": "74beb286",
   "metadata": {
    "ExecuteTime": {
     "end_time": "2021-05-26T01:38:32.383739Z",
     "start_time": "2021-05-26T01:38:32.369752Z"
    }
   },
   "outputs": [
    {
     "data": {
      "text/plain": [
       "[1, 2]"
      ]
     },
     "execution_count": 62,
     "metadata": {},
     "output_type": "execute_result"
    }
   ],
   "source": [
    "a"
   ]
  },
  {
   "cell_type": "code",
   "execution_count": 63,
   "id": "af74e17e",
   "metadata": {
    "ExecuteTime": {
     "end_time": "2021-05-26T01:39:31.384320Z",
     "start_time": "2021-05-26T01:39:31.374327Z"
    }
   },
   "outputs": [
    {
     "data": {
      "text/plain": [
       "3"
      ]
     },
     "execution_count": 63,
     "metadata": {},
     "output_type": "execute_result"
    }
   ],
   "source": [
    "a=[1,2,3,]\n",
    "a.pop(2)"
   ]
  },
  {
   "cell_type": "code",
   "execution_count": 64,
   "id": "a54880f4",
   "metadata": {
    "ExecuteTime": {
     "end_time": "2021-05-26T01:39:35.131174Z",
     "start_time": "2021-05-26T01:39:35.126192Z"
    }
   },
   "outputs": [
    {
     "data": {
      "text/plain": [
       "[1, 2]"
      ]
     },
     "execution_count": 64,
     "metadata": {},
     "output_type": "execute_result"
    }
   ],
   "source": [
    "a"
   ]
  },
  {
   "cell_type": "markdown",
   "id": "e1dad755",
   "metadata": {},
   "source": [
    "### 리스트에 요소 추가(append)\n",
    "\n",
    "append를 사전에서 검색해 보면 \"덧붙이다, 첨부하다\"라는 뜻이 있다. 이 뜻을 안다면 다음 예가 바로 이해될 것이다. append(x)는 리스트의 맨 마지막에 x를 추가하는 함수이다."
   ]
  },
  {
   "cell_type": "code",
   "execution_count": 65,
   "id": "635033ff",
   "metadata": {
    "ExecuteTime": {
     "end_time": "2021-05-26T01:44:38.293509Z",
     "start_time": "2021-05-26T01:44:38.277520Z"
    }
   },
   "outputs": [
    {
     "data": {
      "text/plain": [
       "[1, 2, 3, 4, 2]"
      ]
     },
     "execution_count": 65,
     "metadata": {},
     "output_type": "execute_result"
    }
   ],
   "source": [
    "a=[1,2,3,4,]\n",
    "a.append(2)\n",
    "a"
   ]
  },
  {
   "cell_type": "code",
   "execution_count": 67,
   "id": "83e6decf",
   "metadata": {
    "ExecuteTime": {
     "end_time": "2021-05-26T01:46:27.191366Z",
     "start_time": "2021-05-26T01:46:27.182369Z"
    }
   },
   "outputs": [
    {
     "data": {
      "text/plain": [
       "[1, 2, 3, 4, [3, 4]]"
      ]
     },
     "execution_count": 67,
     "metadata": {},
     "output_type": "execute_result"
    }
   ],
   "source": [
    "a=[1,2,3,4]\n",
    "a.append([3,4])\n",
    "a"
   ]
  },
  {
   "cell_type": "markdown",
   "id": "222b662b",
   "metadata": {},
   "source": [
    "### 리스트에 요소 삽입(insert)\n",
    "\n",
    "insert(a, b)는 리스트의 a번째 위치에 b를 삽입하는 함수이다. 파이썬에서는 숫자를 0부터 센다는 것을 반드시 기억하자."
   ]
  },
  {
   "cell_type": "code",
   "execution_count": 68,
   "id": "fdff3a75",
   "metadata": {
    "ExecuteTime": {
     "end_time": "2021-05-26T01:48:45.896944Z",
     "start_time": "2021-05-26T01:48:45.878973Z"
    }
   },
   "outputs": [
    {
     "data": {
      "text/plain": [
       "[1, 2, 4, 3]"
      ]
     },
     "execution_count": 68,
     "metadata": {},
     "output_type": "execute_result"
    }
   ],
   "source": [
    "a=[1,2,3,]\n",
    "a.insert(2,4)\n",
    "a"
   ]
  },
  {
   "cell_type": "markdown",
   "id": "31a638b4",
   "metadata": {},
   "source": [
    "### 리스트 정렬(sort)\n",
    "\n",
    "sort 함수는 리스트의 요소를 순서대로 정렬해 준다."
   ]
  },
  {
   "cell_type": "code",
   "execution_count": 75,
   "id": "e53cd65b",
   "metadata": {
    "ExecuteTime": {
     "end_time": "2021-05-26T01:53:19.086261Z",
     "start_time": "2021-05-26T01:53:19.078264Z"
    }
   },
   "outputs": [
    {
     "data": {
      "text/plain": [
       "[8, 7, 5, 5, 5, 4, 4, 1, 1]"
      ]
     },
     "execution_count": 75,
     "metadata": {},
     "output_type": "execute_result"
    }
   ],
   "source": [
    "a=[1,4,5,7,8,5,4,1,5,]\n",
    "a.sort()\n",
    "a\n",
    "a.reverse()\n",
    "a"
   ]
  },
  {
   "cell_type": "code",
   "execution_count": 73,
   "id": "b91f627b",
   "metadata": {
    "ExecuteTime": {
     "end_time": "2021-05-26T01:52:34.601808Z",
     "start_time": "2021-05-26T01:52:34.583833Z"
    }
   },
   "outputs": [
    {
     "data": {
      "text/plain": [
       "['a', 'b', 'z']"
      ]
     },
     "execution_count": 73,
     "metadata": {},
     "output_type": "execute_result"
    }
   ],
   "source": [
    "a=[\"a\",\"z\",\"b\"]\n",
    "a.sort()\n",
    "a"
   ]
  },
  {
   "cell_type": "markdown",
   "id": "164e91f2",
   "metadata": {},
   "source": [
    "### 리스트 뒤집기(reverse)\n",
    "\n",
    "reverse 함수는 리스트를 역순으로 뒤집어 준다. 이때 리스트 요소들을 순서대로 정렬한 다음 다시 역순으로 정렬하는 것이 아니라 그저 현재의 리스트를 그대로 거꾸로 뒤집는다."
   ]
  },
  {
   "cell_type": "code",
   "execution_count": 76,
   "id": "e0520b15",
   "metadata": {
    "ExecuteTime": {
     "end_time": "2021-05-26T01:57:24.700450Z",
     "start_time": "2021-05-26T01:57:24.691455Z"
    }
   },
   "outputs": [
    {
     "data": {
      "text/plain": [
       "[89, 88, 7, 66, 5, 33, 5, 7, 1]"
      ]
     },
     "execution_count": 76,
     "metadata": {},
     "output_type": "execute_result"
    }
   ],
   "source": [
    "a=[1,7,5,33,5,66,7,88,89]\n",
    "a.reverse()\n",
    "a"
   ]
  },
  {
   "cell_type": "code",
   "execution_count": 78,
   "id": "fa9627c5",
   "metadata": {
    "ExecuteTime": {
     "end_time": "2021-05-26T01:57:57.662292Z",
     "start_time": "2021-05-26T01:57:57.643288Z"
    }
   },
   "outputs": [
    {
     "data": {
      "text/plain": [
       "[89, 88, 66, 33, 7, 7, 5, 5, 1]"
      ]
     },
     "execution_count": 78,
     "metadata": {},
     "output_type": "execute_result"
    }
   ],
   "source": [
    "a=[1,7,5,33,5,66,7,88,89]\n",
    "a.sort()\n",
    "a.reverse()\n",
    "a"
   ]
  },
  {
   "cell_type": "markdown",
   "id": "28e78408",
   "metadata": {},
   "source": [
    "### 위치 반환(index)\n",
    "\n",
    "index(x) 함수는 리스트에 x 값이 있으면 x의 위치 값을 돌려준다."
   ]
  },
  {
   "cell_type": "code",
   "execution_count": 82,
   "id": "298c12db",
   "metadata": {
    "ExecuteTime": {
     "end_time": "2021-05-26T02:41:25.156697Z",
     "start_time": "2021-05-26T02:41:25.142704Z"
    }
   },
   "outputs": [
    {
     "data": {
      "text/plain": [
       "0"
      ]
     },
     "execution_count": 82,
     "metadata": {},
     "output_type": "execute_result"
    }
   ],
   "source": [
    "a = [1,2,3]\n",
    "a.index(3)\n",
    "a.index(1)"
   ]
  },
  {
   "cell_type": "markdown",
   "id": "3b71d335",
   "metadata": {},
   "source": [
    "### 리스트 확장(extend)\n",
    "\n",
    "extend(x)에서 x에는 리스트만 올 수 있으며 원래의 a 리스트에 x 리스트를 더하게 된다."
   ]
  },
  {
   "cell_type": "code",
   "execution_count": 80,
   "id": "64892c8f",
   "metadata": {
    "ExecuteTime": {
     "end_time": "2021-05-26T02:37:57.000315Z",
     "start_time": "2021-05-26T02:37:56.990331Z"
    }
   },
   "outputs": [
    {
     "data": {
      "text/plain": [
       "[1, 2, 3, 4, 5]"
      ]
     },
     "execution_count": 80,
     "metadata": {},
     "output_type": "execute_result"
    }
   ],
   "source": [
    "a = [1,2,3]\n",
    "a.extend([4,5])\n",
    "a"
   ]
  },
  {
   "cell_type": "code",
   "execution_count": 81,
   "id": "a6d0f778",
   "metadata": {
    "ExecuteTime": {
     "end_time": "2021-05-26T02:38:20.419185Z",
     "start_time": "2021-05-26T02:38:20.411190Z"
    }
   },
   "outputs": [
    {
     "data": {
      "text/plain": [
       "[1, 2, 3, 4, 5, 6, 7]"
      ]
     },
     "execution_count": 81,
     "metadata": {},
     "output_type": "execute_result"
    }
   ],
   "source": [
    "b =[6,7,]\n",
    "a.extend(b)\n",
    "a"
   ]
  },
  {
   "cell_type": "markdown",
   "id": "0b873792",
   "metadata": {},
   "source": [
    "## 튜플은 어떻게 만들까?\n",
    "\n",
    "튜플(tuple)은 몇 가지 점을 제외하곤 리스트와 거의 비슷하며 리스트와 다른 점은 다음과 같다.\n",
    "\n",
    "- 리스트는 [ ]으로 둘러싸지만 튜플은 ( )으로 둘러싼다.\n",
    "- 리스트는 그 값의 생성, 삭제, 수정이 가능하지만 튜플은 그 값을 바꿀 수 없다."
   ]
  },
  {
   "cell_type": "code",
   "execution_count": 83,
   "id": "6acf33e2",
   "metadata": {
    "ExecuteTime": {
     "end_time": "2021-05-26T02:45:06.385467Z",
     "start_time": "2021-05-26T02:45:06.377473Z"
    }
   },
   "outputs": [],
   "source": [
    "t1 = ()\n",
    "t2 = (1,)\n",
    "t3 = (1, 2, 3)\n",
    "t4 = 1, 2, 3\n",
    "t5 = ('a', 'b', ('ab', 'cd'))"
   ]
  },
  {
   "cell_type": "code",
   "execution_count": 84,
   "id": "f611dfa1",
   "metadata": {
    "ExecuteTime": {
     "end_time": "2021-05-26T02:45:31.712492Z",
     "start_time": "2021-05-26T02:45:31.695519Z"
    }
   },
   "outputs": [
    {
     "data": {
      "text/plain": [
       "(1, 2, 3)"
      ]
     },
     "execution_count": 84,
     "metadata": {},
     "output_type": "execute_result"
    }
   ],
   "source": [
    "t4"
   ]
  },
  {
   "cell_type": "markdown",
   "id": "5e2a210a",
   "metadata": {},
   "source": [
    "## 튜플 다루기\n",
    "\n",
    "튜플은 값을 변화시킬 수 없다는 점만 제외하면 리스트와 완전히 동일하므로 간단하게만 살펴보겠다. 다음 예제는 서로 연관되어 있으므로 차례대로 수행해 보기 바란다.\n",
    "\n",
    "### 인덱싱하기"
   ]
  },
  {
   "cell_type": "code",
   "execution_count": 85,
   "id": "ac2c3197",
   "metadata": {
    "ExecuteTime": {
     "end_time": "2021-05-26T02:47:21.950801Z",
     "start_time": "2021-05-26T02:47:21.943785Z"
    }
   },
   "outputs": [
    {
     "data": {
      "text/plain": [
       "1"
      ]
     },
     "execution_count": 85,
     "metadata": {},
     "output_type": "execute_result"
    }
   ],
   "source": [
    "t1 =(1,2,\"a\",\"b\")\n",
    "t1[0]"
   ]
  },
  {
   "cell_type": "markdown",
   "id": "d95c8826",
   "metadata": {},
   "source": [
    "슬라이싱하기"
   ]
  },
  {
   "cell_type": "markdown",
   "id": "04e30c53",
   "metadata": {},
   "source": [
    "### 2.2 튜플을 수정하기"
   ]
  },
  {
   "cell_type": "code",
   "execution_count": 87,
   "id": "9aa28719",
   "metadata": {
    "ExecuteTime": {
     "end_time": "2021-05-26T02:50:51.255597Z",
     "start_time": "2021-05-26T02:50:51.246619Z"
    }
   },
   "outputs": [
    {
     "data": {
      "text/plain": [
       "(1, 2, 4)"
      ]
     },
     "execution_count": 87,
     "metadata": {},
     "output_type": "execute_result"
    }
   ],
   "source": [
    "tup =(1,2,3,4)\n",
    "tup=list(tup)\n",
    "tup\n",
    "del tup[2]\n",
    "\n",
    "tup = tuple(tup)\n",
    "tup"
   ]
  },
  {
   "cell_type": "code",
   "execution_count": null,
   "id": "05997c84",
   "metadata": {},
   "outputs": [],
   "source": []
  }
 ],
 "metadata": {
  "hide_input": false,
  "kernelspec": {
   "display_name": "Python 3",
   "language": "python",
   "name": "python3"
  },
  "language_info": {
   "codemirror_mode": {
    "name": "ipython",
    "version": 3
   },
   "file_extension": ".py",
   "mimetype": "text/x-python",
   "name": "python",
   "nbconvert_exporter": "python",
   "pygments_lexer": "ipython3",
   "version": "3.7.9"
  },
  "varInspector": {
   "cols": {
    "lenName": 16,
    "lenType": 16,
    "lenVar": 40
   },
   "kernels_config": {
    "python": {
     "delete_cmd_postfix": "",
     "delete_cmd_prefix": "del ",
     "library": "var_list.py",
     "varRefreshCmd": "print(var_dic_list())"
    },
    "r": {
     "delete_cmd_postfix": ") ",
     "delete_cmd_prefix": "rm(",
     "library": "var_list.r",
     "varRefreshCmd": "cat(var_dic_list()) "
    }
   },
   "types_to_exclude": [
    "module",
    "function",
    "builtin_function_or_method",
    "instance",
    "_Feature"
   ],
   "window_display": false
  }
 },
 "nbformat": 4,
 "nbformat_minor": 5
}
