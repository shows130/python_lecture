{
 "cells": [
  {
   "cell_type": "code",
   "execution_count": 2,
   "id": "dfdf9bde",
   "metadata": {
    "ExecuteTime": {
     "end_time": "2021-05-26T06:24:57.449908Z",
     "start_time": "2021-05-26T06:24:57.435915Z"
    }
   },
   "outputs": [
    {
     "data": {
      "text/plain": [
       "datetime.timedelta(days=64, seconds=29156, microseconds=10)"
      ]
     },
     "execution_count": 2,
     "metadata": {},
     "output_type": "execute_result"
    }
   ],
   "source": [
    "from datetime import timedelta\n",
    ">>> delta = timedelta(\n",
    "days=50,\n",
    "seconds=27,\n",
    "microseconds=10,\n",
    "milliseconds=29000,\n",
    "minutes=5,\n",
    "hours=8,\n",
    "weeks=2\n",
    ")\n",
    "\n",
    "\n",
    "delta"
   ]
  },
  {
   "cell_type": "code",
   "execution_count": 12,
   "id": "26559cfd",
   "metadata": {
    "ExecuteTime": {
     "end_time": "2021-05-26T06:37:54.588573Z",
     "start_time": "2021-05-26T06:37:54.580577Z"
    }
   },
   "outputs": [
    {
     "name": "stdout",
     "output_type": "stream",
     "text": [
      "21 days, 0:00:00\n"
     ]
    },
    {
     "data": {
      "text/plain": [
       "datetime.date(2021, 6, 16)"
      ]
     },
     "execution_count": 12,
     "metadata": {},
     "output_type": "execute_result"
    }
   ],
   "source": [
    "from datetime import date ,timedelta\n",
    "import datetime\n",
    "week = timedelta(weeks=3)\n",
    "print(week)\n",
    "ext_week = date.today() + week\n",
    "ext_week"
   ]
  },
  {
   "cell_type": "code",
   "execution_count": 13,
   "id": "53ca3a90",
   "metadata": {
    "ExecuteTime": {
     "end_time": "2021-05-26T06:38:02.208488Z",
     "start_time": "2021-05-26T06:38:02.197494Z"
    }
   },
   "outputs": [
    {
     "data": {
      "text/plain": [
       "26"
      ]
     },
     "execution_count": 13,
     "metadata": {},
     "output_type": "execute_result"
    }
   ],
   "source": [
    "dt= datetime.date(2021,5,26)\n",
    "dt.day"
   ]
  },
  {
   "cell_type": "code",
   "execution_count": 14,
   "id": "e591a3c7",
   "metadata": {
    "ExecuteTime": {
     "end_time": "2021-05-26T06:38:38.775608Z",
     "start_time": "2021-05-26T06:38:38.757618Z"
    }
   },
   "outputs": [
    {
     "data": {
      "text/plain": [
       "['__doc__',\n",
       " '__loader__',\n",
       " '__name__',\n",
       " '__package__',\n",
       " '__spec__',\n",
       " 'acos',\n",
       " 'acosh',\n",
       " 'asin',\n",
       " 'asinh',\n",
       " 'atan',\n",
       " 'atan2',\n",
       " 'atanh',\n",
       " 'ceil',\n",
       " 'copysign',\n",
       " 'cos',\n",
       " 'cosh',\n",
       " 'degrees',\n",
       " 'e',\n",
       " 'erf',\n",
       " 'erfc',\n",
       " 'exp',\n",
       " 'expm1',\n",
       " 'fabs',\n",
       " 'factorial',\n",
       " 'floor',\n",
       " 'fmod',\n",
       " 'frexp',\n",
       " 'fsum',\n",
       " 'gamma',\n",
       " 'gcd',\n",
       " 'hypot',\n",
       " 'inf',\n",
       " 'isclose',\n",
       " 'isfinite',\n",
       " 'isinf',\n",
       " 'isnan',\n",
       " 'ldexp',\n",
       " 'lgamma',\n",
       " 'log',\n",
       " 'log10',\n",
       " 'log1p',\n",
       " 'log2',\n",
       " 'modf',\n",
       " 'nan',\n",
       " 'pi',\n",
       " 'pow',\n",
       " 'radians',\n",
       " 'remainder',\n",
       " 'sin',\n",
       " 'sinh',\n",
       " 'sqrt',\n",
       " 'tan',\n",
       " 'tanh',\n",
       " 'tau',\n",
       " 'trunc']"
      ]
     },
     "execution_count": 14,
     "metadata": {},
     "output_type": "execute_result"
    }
   ],
   "source": [
    "import math\n",
    "dir(math)"
   ]
  },
  {
   "cell_type": "code",
   "execution_count": 15,
   "id": "b006bc27",
   "metadata": {
    "ExecuteTime": {
     "end_time": "2021-05-26T06:39:42.686996Z",
     "start_time": "2021-05-26T06:39:42.670010Z"
    }
   },
   "outputs": [
    {
     "data": {
      "text/plain": [
       "3.141592653589793"
      ]
     },
     "execution_count": 15,
     "metadata": {},
     "output_type": "execute_result"
    }
   ],
   "source": [
    "math.pi"
   ]
  },
  {
   "cell_type": "code",
   "execution_count": 26,
   "id": "0a5201c3",
   "metadata": {
    "ExecuteTime": {
     "end_time": "2021-05-26T06:50:04.682063Z",
     "start_time": "2021-05-26T06:50:04.667077Z"
    }
   },
   "outputs": [
    {
     "data": {
      "text/plain": [
       "1"
      ]
     },
     "execution_count": 26,
     "metadata": {},
     "output_type": "execute_result"
    }
   ],
   "source": [
    "import random\n",
    "random.seed(2)\n",
    "random.randint(1,10)"
   ]
  },
  {
   "cell_type": "code",
   "execution_count": 28,
   "id": "9067848b",
   "metadata": {
    "ExecuteTime": {
     "end_time": "2021-05-26T06:51:07.396678Z",
     "start_time": "2021-05-26T06:51:07.386684Z"
    }
   },
   "outputs": [
    {
     "data": {
      "text/plain": [
       "[30, 20, 40, 50, 10]"
      ]
     },
     "execution_count": 28,
     "metadata": {},
     "output_type": "execute_result"
    }
   ],
   "source": [
    "numlist =[10,20,30,40,50]\n",
    "random.seed(2)\n",
    "random.shuffle(numlist)\n",
    "numlist"
   ]
  },
  {
   "cell_type": "code",
   "execution_count": 32,
   "id": "5d66e631",
   "metadata": {
    "ExecuteTime": {
     "end_time": "2021-05-26T06:55:23.321357Z",
     "start_time": "2021-05-26T06:55:23.317362Z"
    }
   },
   "outputs": [
    {
     "data": {
      "text/plain": [
       "['par', 'k']"
      ]
     },
     "execution_count": 32,
     "metadata": {},
     "output_type": "execute_result"
    }
   ],
   "source": [
    "data = \"par,k\"\n",
    "data.split(',')\n",
    "#dir(date)"
   ]
  },
  {
   "cell_type": "code",
   "execution_count": null,
   "id": "75cb967e",
   "metadata": {},
   "outputs": [],
   "source": []
  }
 ],
 "metadata": {
  "hide_input": false,
  "kernelspec": {
   "display_name": "Python 3",
   "language": "python",
   "name": "python3"
  },
  "language_info": {
   "codemirror_mode": {
    "name": "ipython",
    "version": 3
   },
   "file_extension": ".py",
   "mimetype": "text/x-python",
   "name": "python",
   "nbconvert_exporter": "python",
   "pygments_lexer": "ipython3",
   "version": "3.7.9"
  },
  "varInspector": {
   "cols": {
    "lenName": 16,
    "lenType": 16,
    "lenVar": 40
   },
   "kernels_config": {
    "python": {
     "delete_cmd_postfix": "",
     "delete_cmd_prefix": "del ",
     "library": "var_list.py",
     "varRefreshCmd": "print(var_dic_list())"
    },
    "r": {
     "delete_cmd_postfix": ") ",
     "delete_cmd_prefix": "rm(",
     "library": "var_list.r",
     "varRefreshCmd": "cat(var_dic_list()) "
    }
   },
   "types_to_exclude": [
    "module",
    "function",
    "builtin_function_or_method",
    "instance",
    "_Feature"
   ],
   "window_display": false
  }
 },
 "nbformat": 4,
 "nbformat_minor": 5
}
